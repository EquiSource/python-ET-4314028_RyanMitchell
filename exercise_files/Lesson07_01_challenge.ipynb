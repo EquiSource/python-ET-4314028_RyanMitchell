{
 "cells": [
  {
   "cell_type": "code",
   "execution_count": null,
   "id": "39cf54a0-ad41-4994-b44e-d93daa468742",
   "metadata": {},
   "outputs": [],
   "source": []
  },
  {
   "cell_type": "code",
   "execution_count": null,
   "id": "3ebb9bde-2e9e-4881-a7b8-8a88ec967ace",
   "metadata": {},
   "outputs": [],
   "source": []
  },
  {
   "cell_type": "code",
   "execution_count": 125,
   "id": "7f465572-d519-496c-a367-664d61660336",
   "metadata": {},
   "outputs": [],
   "source": [
    "# Python code​​​​​​‌​‌‌‌‌​​​‌​​​‌​‌​​‌‌​​​‌​ below\n",
    "class Shape:\n",
    "\twidth = 5\n",
    "\theight = 5\n",
    "\tprintChar = '#'\n",
    "\n",
    "\tdef printRow(self, i):\n",
    "\t\traise NotImplementedError(\"Will be implemented by children extending this class\")\n",
    "\n",
    "\tdef print(self):\n",
    "\t\tfor i in range(self.height):\n",
    "\t\t\tself.printRow(i)\n",
    "\n",
    "\n",
    "class Square(Shape):\n",
    "\tdef printRow(self, i):\n",
    "\t\tprint(self.printChar * self.width)\n",
    "\n",
    "\n",
    "class Triangle(Shape):\n",
    "    height = 5\n",
    "    width = 2 * height\n",
    "    def printRow(self, i):\n",
    "        #print(self.printChar*(i+1))\n",
    "        # i is the height index\n",
    "        # width will always be an odd number and therefore stack looks symetrical\n",
    "        trianglewidth = i * 2 + 1 \n",
    "        padding = int((self.width - trianglewidth) / 2 )\n",
    "        print(' '*padding + self.printChar * trianglewidth) \n"
   ]
  },
  {
   "cell_type": "code",
   "execution_count": 126,
   "id": "b1cf669c-057b-4784-b880-4ca1a8aff071",
   "metadata": {},
   "outputs": [
    {
     "data": {
      "text/plain": [
       "'#'"
      ]
     },
     "execution_count": 126,
     "metadata": {},
     "output_type": "execute_result"
    }
   ],
   "source": [
    "Shape.printChar"
   ]
  },
  {
   "cell_type": "code",
   "execution_count": 127,
   "id": "1300cabd-57b2-4459-b848-50be8a29595f",
   "metadata": {},
   "outputs": [
    {
     "data": {
      "text/plain": [
       "5"
      ]
     },
     "execution_count": 127,
     "metadata": {},
     "output_type": "execute_result"
    }
   ],
   "source": [
    "Shape.width\n"
   ]
  },
  {
   "cell_type": "code",
   "execution_count": 128,
   "id": "d29d2b86-0849-4f70-b9a7-99f76486b16d",
   "metadata": {},
   "outputs": [
    {
     "name": "stdout",
     "output_type": "stream",
     "text": [
      "#####\n",
      "#####\n",
      "#####\n",
      "#####\n",
      "#####\n"
     ]
    }
   ],
   "source": [
    "s = Square()\n",
    "s.print()\n"
   ]
  },
  {
   "cell_type": "code",
   "execution_count": null,
   "id": "4ae9a56d-22fa-4249-b2bd-58c23fca00fb",
   "metadata": {},
   "outputs": [],
   "source": []
  },
  {
   "cell_type": "code",
   "execution_count": 129,
   "id": "699d9308-36f0-4121-96f8-c53322d3f2e3",
   "metadata": {},
   "outputs": [
    {
     "name": "stdout",
     "output_type": "stream",
     "text": [
      "    #\n",
      "   ###\n",
      "  #####\n",
      " #######\n",
      "#########\n"
     ]
    }
   ],
   "source": [
    "t = Triangle()\n",
    "t.print()"
   ]
  },
  {
   "cell_type": "code",
   "execution_count": null,
   "id": "d6684f40-d86d-4a04-a198-5714f01e2510",
   "metadata": {},
   "outputs": [],
   "source": []
  },
  {
   "cell_type": "markdown",
   "id": "476ccb66-0766-44e0-a7d8-9fc1874680f3",
   "metadata": {},
   "source": [
    "# "
   ]
  }
 ],
 "metadata": {
  "kernelspec": {
   "display_name": "Python 3 (ipykernel)",
   "language": "python",
   "name": "python3"
  },
  "language_info": {
   "codemirror_mode": {
    "name": "ipython",
    "version": 3
   },
   "file_extension": ".py",
   "mimetype": "text/x-python",
   "name": "python",
   "nbconvert_exporter": "python",
   "pygments_lexer": "ipython3",
   "version": "3.12.3"
  }
 },
 "nbformat": 4,
 "nbformat_minor": 5
}
