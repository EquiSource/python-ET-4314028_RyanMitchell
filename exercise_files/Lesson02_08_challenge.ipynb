{
 "cells": [
  {
   "cell_type": "code",
   "execution_count": 185,
   "id": "a130024d-6e86-40e4-bcfe-b1d394e04a44",
   "metadata": {},
   "outputs": [],
   "source": [
    "# Python code​​​​​​‌​‌‌‌​‌​​‌​‌​‌​‌​‌​​​‌‌‌​ below\n",
    "\n",
    "\n",
    "def factorial(num):\n",
    "    # Your code goes here.\n",
    "    # Check to see if the varialbe is a positive whole number, an integer\n",
    "    print(num)\n",
    "    \n",
    "    result = type(num)\n",
    "    print(result)\n",
    "    if result != int:\n",
    "        print('this is not an int', result)\n",
    "    else:\n",
    "        print('this is an int')\n",
    "        if num >= 0:\n",
    "            print('do the math here')\n",
    "            results = 1\n",
    "            for i in range(2, num + 1):\n",
    "                results *= i\n",
    "            return results\n",
    "        else:\n",
    "            print('Your number is not 0 or greater')\n",
    "            \n",
    "    \n",
    "\n",
    "\n"
   ]
  },
  {
   "cell_type": "code",
   "execution_count": 196,
   "id": "90cf69b9-18b2-4c40-b5e4-0cc9e5c8a575",
   "metadata": {},
   "outputs": [],
   "source": [
    "x = 3"
   ]
  },
  {
   "cell_type": "code",
   "execution_count": 197,
   "id": "49bba189-3f25-4986-8dcf-4d835534f4a6",
   "metadata": {},
   "outputs": [
    {
     "name": "stdout",
     "output_type": "stream",
     "text": [
      "3\n",
      "<class 'int'>\n",
      "this is an int\n",
      "do the math here\n"
     ]
    },
    {
     "data": {
      "text/plain": [
       "6"
      ]
     },
     "execution_count": 197,
     "metadata": {},
     "output_type": "execute_result"
    }
   ],
   "source": [
    "factorial(x)"
   ]
  },
  {
   "cell_type": "code",
   "execution_count": null,
   "id": "2e00945c-35dd-4073-a184-80c140c11b97",
   "metadata": {},
   "outputs": [],
   "source": [
    "\n",
    "\n",
    "\n"
   ]
  },
  {
   "cell_type": "code",
   "execution_count": null,
   "id": "dd6dd640-c1c0-416f-a287-5df24c5a6e87",
   "metadata": {},
   "outputs": [],
   "source": []
  },
  {
   "cell_type": "code",
   "execution_count": 199,
   "id": "2155afd4-2cde-40ac-add4-e41bb3b0f54d",
   "metadata": {},
   "outputs": [],
   "source": [
    "# What I \"turned in\" for the lesson\n",
    "# Python code​​​​​​‌​‌‌‌​‌​​‌​‌​‌​‌​‌​​​‌‌‌​ below\n",
    "\n",
    "def factorial(num):\n",
    "    # Your code goes here.\n",
    "\n",
    "    # Your code goes here.\n",
    "    # Check to see if the varialbe is a positive whole number, an integer\n",
    "    #print(num)\n",
    "    \n",
    "    result = type(num)\n",
    "    if result != int:\n",
    "        print('this is not an int', result)\n",
    "    else:\n",
    "        print('this is an int')\n",
    "        if num >= 0:\n",
    "            results = 1\n",
    "            for i in range(2, num + 1):\n",
    "                results *= i\n",
    "            return results\n",
    "        else:\n",
    "            print('Your number is not 0 or greater')\n",
    "    pass      "
   ]
  },
  {
   "cell_type": "code",
   "execution_count": 203,
   "id": "9ea93b95-643b-43d8-85c9-4056b07b6109",
   "metadata": {},
   "outputs": [
    {
     "name": "stdout",
     "output_type": "stream",
     "text": [
      "3\n"
     ]
    }
   ],
   "source": [
    "myList = [[1,2], ['apple'], [3,4,5]]\n",
    "listLen = len(myList)\n",
    "print(listLen)"
   ]
  },
  {
   "cell_type": "code",
   "execution_count": 201,
   "id": "3305bfb1-62b4-405d-a841-0198d0f9d059",
   "metadata": {},
   "outputs": [
    {
     "name": "stdout",
     "output_type": "stream",
     "text": [
      "myList\n"
     ]
    }
   ],
   "source": [
    "\n",
    "\n"
   ]
  },
  {
   "cell_type": "code",
   "execution_count": 205,
   "id": "c365006b-9aa1-4c91-b05f-65c90b1b3ae9",
   "metadata": {},
   "outputs": [
    {
     "name": "stdout",
     "output_type": "stream",
     "text": [
      "False\n"
     ]
    }
   ],
   "source": [
    "false = False\n",
    "print(false)\n"
   ]
  },
  {
   "cell_type": "code",
   "execution_count": 206,
   "id": "6b8cc287-f8e3-4396-9d96-b151041d1eda",
   "metadata": {},
   "outputs": [
    {
     "data": {
      "text/plain": [
       "6"
      ]
     },
     "execution_count": 206,
     "metadata": {},
     "output_type": "execute_result"
    }
   ],
   "source": [
    "456 % 10\n"
   ]
  },
  {
   "cell_type": "code",
   "execution_count": 207,
   "id": "290c42d3-d5a3-4f20-88c4-895c6fe55047",
   "metadata": {},
   "outputs": [
    {
     "ename": "AttributeError",
     "evalue": "'tuple' object has no attribute 'append'",
     "output_type": "error",
     "traceback": [
      "\u001b[0;31m---------------------------------------------------------------------------\u001b[0m",
      "\u001b[0;31mAttributeError\u001b[0m                            Traceback (most recent call last)",
      "Cell \u001b[0;32mIn[207], line 2\u001b[0m\n\u001b[1;32m      1\u001b[0m var \u001b[38;5;241m=\u001b[39m (\u001b[38;5;241m1\u001b[39m,\u001b[38;5;241m2\u001b[39m,\u001b[38;5;241m3\u001b[39m)\n\u001b[0;32m----> 2\u001b[0m \u001b[43mvar\u001b[49m\u001b[38;5;241;43m.\u001b[39;49m\u001b[43mappend\u001b[49m(\u001b[38;5;241m4\u001b[39m)\n",
      "\u001b[0;31mAttributeError\u001b[0m: 'tuple' object has no attribute 'append'"
     ]
    }
   ],
   "source": [
    "var = (1,2,3)\n",
    "var.append(4)"
   ]
  },
  {
   "cell_type": "code",
   "execution_count": 208,
   "id": "bf2c49f2-f8bd-4e81-833f-a747f6821065",
   "metadata": {},
   "outputs": [
    {
     "data": {
      "text/plain": [
       "'4444'"
      ]
     },
     "execution_count": 208,
     "metadata": {},
     "output_type": "execute_result"
    }
   ],
   "source": [
    "'4' * 4"
   ]
  },
  {
   "cell_type": "code",
   "execution_count": null,
   "id": "78842dfe-8817-452b-8d47-ef29b9be806d",
   "metadata": {},
   "outputs": [],
   "source": []
  }
 ],
 "metadata": {
  "kernelspec": {
   "display_name": "Python 3 (ipykernel)",
   "language": "python",
   "name": "python3"
  },
  "language_info": {
   "codemirror_mode": {
    "name": "ipython",
    "version": 3
   },
   "file_extension": ".py",
   "mimetype": "text/x-python",
   "name": "python",
   "nbconvert_exporter": "python",
   "pygments_lexer": "ipython3",
   "version": "3.12.3"
  }
 },
 "nbformat": 4,
 "nbformat_minor": 5
}
