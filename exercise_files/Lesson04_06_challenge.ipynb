{
 "cells": [
  {
   "cell_type": "markdown",
   "id": "99d573da-a7e9-4248-99e0-c1d01debe2f7",
   "metadata": {},
   "source": [
    "# test of my emergency broadcasting of ascii art\n"
   ]
  },
  {
   "cell_type": "code",
   "execution_count": 2,
   "id": "54c8a5b2-ebf4-4c1a-8d6a-b7e71bef3895",
   "metadata": {},
   "outputs": [],
   "source": [
    "def encodeString(stringVal):\n",
    "    #Your code goes here\n",
    "    print('stringVal is', stringVal)\n",
    "    # Count the letters\n",
    "\n",
    "    encoded = []\n",
    "    #print('encoded', encoded)\n",
    "    var_type = type(encoded)\n",
    "    #print(var_type)  \n",
    "    count = 1\n",
    "\n",
    "    for i in range(1, len(stringVal)):\n",
    "        if stringVal[i] == stringVal[i-1]:\n",
    "            count +=1\n",
    "        else:\n",
    "            encoded.append((stringVal[i-1], count))\n",
    "            count = 1\n",
    "    \n",
    "    encoded.append((stringVal[-1], count))\n",
    "    return encoded\n",
    "    pass\n",
    "\n",
    "def decodeString (encodedList):\n",
    "    #Your code goes here\n",
    "\n",
    "    #print ('encodedList is', encodedList)\n",
    "    ec_type = type(encodedList)\n",
    "    #print(ec_type)\n",
    "    \n",
    "    decoded = ''\n",
    "    for char, count in encodedList:\n",
    "        #print('char is ', char)\n",
    "        #print('count is ', count)\n",
    "        decoded += char * count\n",
    "\n",
    "    return decoded\n",
    "    pass\n",
    "\n",
    "# write a function that will encode a string like 'AAAABBBBBAAA' \n",
    "# and return a list of tuples: [('A',5), ('B', 4), ('A', 3)]\n",
    "\n",
    "# Input AAAAABBBBAAA\n",
    "# Result A 5, B 4,A, 3\n",
    "\n",
    "# Write a corresponding function decodeString that will take in a \n",
    "# list of tuples and print the original string\n",
    "# Input [('W', 5), ('1', 2), ('G'), 3)]\n",
    "# Result WWWWW11GGG\n",
    "\n"
   ]
  },
  {
   "cell_type": "code",
   "execution_count": null,
   "id": "9b09fc62-4b97-4524-bfdd-8a118ef0b430",
   "metadata": {},
   "outputs": [],
   "source": []
  },
  {
   "cell_type": "code",
   "execution_count": 275,
   "id": "0fa26402-d8d9-4d01-a630-311eb42fa55d",
   "metadata": {},
   "outputs": [
    {
     "name": "stdout",
     "output_type": "stream",
     "text": [
      "encodedList is [('W', 5), ('1', 2), ('G', 3)]\n",
      "<class 'list'>\n",
      "char is  W\n",
      "count is  5\n",
      "char is  1\n",
      "count is  2\n",
      "char is  G\n",
      "count is  3\n"
     ]
    },
    {
     "data": {
      "text/plain": [
       "'WWWWW11GGG'"
      ]
     },
     "execution_count": 275,
     "metadata": {},
     "output_type": "execute_result"
    }
   ],
   "source": [
    "#encodeString('AAAAABBBBAAA')\n",
    "#encodeString('gookkeepingx')\n",
    "decodeString([('W', 5), ('1', 2), ('G', 3)])"
   ]
  },
  {
   "cell_type": "code",
   "execution_count": 3,
   "id": "a9ca3b54-b500-47c8-b20f-a0e74c30a4dd",
   "metadata": {},
   "outputs": [
    {
     "name": "stdout",
     "output_type": "stream",
     "text": [
      "stringVal is AAAAABBBBAAA\n"
     ]
    },
    {
     "data": {
      "text/plain": [
       "[('A', 5), ('B', 4), ('A', 3)]"
      ]
     },
     "execution_count": 3,
     "metadata": {},
     "output_type": "execute_result"
    }
   ],
   "source": [
    "encodeString('AAAAABBBBAAA')"
   ]
  },
  {
   "cell_type": "code",
   "execution_count": null,
   "id": "12a60d91-b0fc-43ef-b1c1-0730cafe0b73",
   "metadata": {},
   "outputs": [],
   "source": []
  },
  {
   "cell_type": "code",
   "execution_count": null,
   "id": "3ec1d058-5f3c-4c80-b806-db9f01f1d1b2",
   "metadata": {},
   "outputs": [],
   "source": []
  },
  {
   "cell_type": "code",
   "execution_count": null,
   "id": "4f79a278-cfc9-4c7e-a6bf-7ff6fed424bc",
   "metadata": {},
   "outputs": [],
   "source": [
    "\n"
   ]
  }
 ],
 "metadata": {
  "kernelspec": {
   "display_name": "Python 3 (ipykernel)",
   "language": "python",
   "name": "python3"
  },
  "language_info": {
   "codemirror_mode": {
    "name": "ipython",
    "version": 3
   },
   "file_extension": ".py",
   "mimetype": "text/x-python",
   "name": "python",
   "nbconvert_exporter": "python",
   "pygments_lexer": "ipython3",
   "version": "3.12.3"
  }
 },
 "nbformat": 4,
 "nbformat_minor": 5
}
