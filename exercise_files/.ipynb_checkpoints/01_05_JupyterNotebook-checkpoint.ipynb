{
 "cells": [
  {
   "cell_type": "markdown",
   "id": "62ce1d82",
   "metadata": {},
   "source": [
    "# Title\n",
    "## Smaller Title"
   ]
  },
  {
   "cell_type": "markdown",
   "id": "12d15452",
   "metadata": {},
   "source": [
    "\\begin{equation}\n",
    "e^x=\\sum_{i=0}^\\infty \\frac{1}{i!}x^i\n",
    "\\end{equation}"
   ]
  },
  {
   "cell_type": "markdown",
   "id": "cce449a1-524c-4637-9e93-58ac7ea35d46",
   "metadata": {},
   "source": [
    "# Title\n",
    "## Smaller title\n",
    "can instert math equations etc.  \n",
    "\n"
   ]
  },
  {
   "cell_type": "code",
   "execution_count": 3,
   "id": "ab0b33ee",
   "metadata": {
    "jupyter": {
     "source_hidden": true
    }
   },
   "outputs": [
    {
     "name": "stdout",
     "output_type": "stream",
     "text": [
      "Doing some data my foo science!\n"
     ]
    }
   ],
   "source": [
    "print('Doing some data my foo science!')"
   ]
  },
  {
   "cell_type": "code",
   "execution_count": null,
   "id": "38266dea-9344-468c-b2c1-3ebc0f6f2d85",
   "metadata": {},
   "outputs": [],
   "source": []
  },
  {
   "cell_type": "code",
   "execution_count": 2,
   "id": "70df0832",
   "metadata": {},
   "outputs": [
    {
     "name": "stdout",
     "output_type": "stream",
     "text": [
      "2\n"
     ]
    }
   ],
   "source": [
    "print(1 + 1)"
   ]
  },
  {
   "cell_type": "code",
   "execution_count": null,
   "id": "23519052",
   "metadata": {},
   "outputs": [],
   "source": []
  },
  {
   "cell_type": "code",
   "execution_count": null,
   "id": "4866af0d-9c86-4711-950e-bf869a46766a",
   "metadata": {},
   "outputs": [],
   "source": []
  },
  {
   "cell_type": "code",
   "execution_count": null,
   "id": "0e20f04d-2f4a-4bae-acd3-9f86e49b1479",
   "metadata": {},
   "outputs": [],
   "source": []
  },
  {
   "cell_type": "code",
   "execution_count": null,
   "id": "c4341bf0-8478-4dbc-bd3a-224be3096b4d",
   "metadata": {},
   "outputs": [],
   "source": []
  },
  {
   "cell_type": "code",
   "execution_count": null,
   "id": "876ffed5-d7a6-4f49-932b-9b5ccd98373d",
   "metadata": {},
   "outputs": [],
   "source": []
  }
 ],
 "metadata": {
  "kernelspec": {
   "display_name": "Python 3 (ipykernel)",
   "language": "python",
   "name": "python3"
  },
  "language_info": {
   "codemirror_mode": {
    "name": "ipython",
    "version": 3
   },
   "file_extension": ".py",
   "mimetype": "text/x-python",
   "name": "python",
   "nbconvert_exporter": "python",
   "pygments_lexer": "ipython3",
   "version": "3.12.3"
  },
  "vscode": {
   "interpreter": {
    "hash": "949777d72b0d2535278d3dc13498b2535136f6dfe0678499012e853ee9abcab1"
   }
  }
 },
 "nbformat": 4,
 "nbformat_minor": 5
}
