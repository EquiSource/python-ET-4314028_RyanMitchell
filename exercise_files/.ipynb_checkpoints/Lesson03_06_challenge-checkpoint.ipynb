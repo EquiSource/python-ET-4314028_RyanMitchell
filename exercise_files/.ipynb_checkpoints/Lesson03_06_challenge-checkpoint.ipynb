{
 "cells": [
  {
   "cell_type": "markdown",
   "id": "f00371d6-0b2d-456d-91e9-ba67237917e6",
   "metadata": {},
   "source": [
    "### how do I insert an image in teh markdown - Can I?\n",
    "\n"
   ]
  },
  {
   "cell_type": "code",
   "execution_count": null,
   "id": "0153ed09-0ab9-471d-8a57-6cf9fc830d0b",
   "metadata": {},
   "outputs": [],
   "source": []
  },
  {
   "cell_type": "code",
   "execution_count": null,
   "id": "619f285f-2b10-44f3-9ce1-4ce9dd611ee4",
   "metadata": {},
   "outputs": [],
   "source": []
  },
  {
   "cell_type": "markdown",
   "id": "98290603-61da-4b2f-87e8-69cf47e53b5a",
   "metadata": {},
   "source": []
  },
  {
   "cell_type": "code",
   "execution_count": null,
   "id": "55ff25c3-2354-4eb8-bdbe-0e43fff7a038",
   "metadata": {},
   "outputs": [],
   "source": [
    "# Python code​​​​​​‌​‌‌‌​‌​​‌‌​‌​‌‌​​‌‌‌‌‌‌​ below\n",
    "hexNumbers = {\n",
    "    '0': 0, '1': 1, '2': 2, '3': 3, '4': 4, '5': 5, '6': 6, '7': 7, '8': 8, '9': 9,\n",
    "    'A': 10, 'B': 11, 'C': 12, 'D': 13, 'E': 14, 'F': 15\n",
    "}\n",
    "\n",
    "# Converts a string hexadecimal number into an integer decimal\n",
    "# If hexNum is not a valid hexadecimal number, returns None\n",
    "def hexToDec(hexNum):\n",
    "    pass"
   ]
  },
  {
   "cell_type": "code",
   "execution_count": null,
   "id": "ce99c462-56e3-49fb-acdd-2c4795267368",
   "metadata": {},
   "outputs": [],
   "source": [
    "\n",
    "# This is an example of how your code will be called.\n",
    "# Your function should return the factorial of the number.\n",
    "# You can edit this code to try different testing cases, which\n",
    "# will run before the challenge test cases.\n",
    "\n",
    "Answer.hexToDec('A2')\n",
    "Answer.hexToDec('spam spam spam')"
   ]
  }
 ],
 "metadata": {
  "kernelspec": {
   "display_name": "Python 3 (ipykernel)",
   "language": "python",
   "name": "python3"
  },
  "language_info": {
   "codemirror_mode": {
    "name": "ipython",
    "version": 3
   },
   "file_extension": ".py",
   "mimetype": "text/x-python",
   "name": "python",
   "nbconvert_exporter": "python",
   "pygments_lexer": "ipython3",
   "version": "3.12.3"
  }
 },
 "nbformat": 4,
 "nbformat_minor": 5
}
