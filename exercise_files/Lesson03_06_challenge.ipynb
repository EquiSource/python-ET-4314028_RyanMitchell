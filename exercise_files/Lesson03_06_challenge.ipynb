{
 "cells": [
  {
   "cell_type": "markdown",
   "id": "f00371d6-0b2d-456d-91e9-ba67237917e6",
   "metadata": {},
   "source": [
    "### how do I insert an image in teh markdown - Can I?\n",
    "\n"
   ]
  },
  {
   "cell_type": "code",
   "execution_count": null,
   "id": "0153ed09-0ab9-471d-8a57-6cf9fc830d0b",
   "metadata": {},
   "outputs": [],
   "source": []
  },
  {
   "cell_type": "code",
   "execution_count": null,
   "id": "619f285f-2b10-44f3-9ce1-4ce9dd611ee4",
   "metadata": {},
   "outputs": [],
   "source": []
  },
  {
   "cell_type": "markdown",
   "id": "98290603-61da-4b2f-87e8-69cf47e53b5a",
   "metadata": {},
   "source": []
  },
  {
   "cell_type": "code",
   "execution_count": null,
   "id": "55ff25c3-2354-4eb8-bdbe-0e43fff7a038",
   "metadata": {},
   "outputs": [],
   "source": [
    "# Python code​​​​​​‌​‌‌‌​‌​​‌‌​‌​‌‌​​‌‌‌‌‌‌​ below\n",
    "hexNumbers = {\n",
    "    '0': 0, '1': 1, '2': 2, '3': 3, '4': 4, '5': 5, '6': 6, '7': 7, '8': 8, '9': 9,\n",
    "    'A': 10, 'B': 11, 'C': 12, 'D': 13, 'E': 14, 'F': 15\n",
    "}\n",
    "\n",
    "# Converts a string hexadecimal number into an integer decimal\n",
    "# If hexNum is not a valid hexadecimal number, returns None\n",
    "def hexToDec(hexNum):\n",
    "    pass"
   ]
  },
  {
   "cell_type": "code",
   "execution_count": 1,
   "id": "ce99c462-56e3-49fb-acdd-2c4795267368",
   "metadata": {},
   "outputs": [
    {
     "ename": "NameError",
     "evalue": "name 'Answer' is not defined",
     "output_type": "error",
     "traceback": [
      "\u001b[0;31m---------------------------------------------------------------------------\u001b[0m",
      "\u001b[0;31mNameError\u001b[0m                                 Traceback (most recent call last)",
      "Cell \u001b[0;32mIn[1], line 6\u001b[0m\n\u001b[1;32m      1\u001b[0m \u001b[38;5;66;03m# This is an example of how your code will be called.\u001b[39;00m\n\u001b[1;32m      2\u001b[0m \u001b[38;5;66;03m# Your function should return the factorial of the number.\u001b[39;00m\n\u001b[1;32m      3\u001b[0m \u001b[38;5;66;03m# You can edit this code to try different testing cases, which\u001b[39;00m\n\u001b[1;32m      4\u001b[0m \u001b[38;5;66;03m# will run before the challenge test cases.\u001b[39;00m\n\u001b[0;32m----> 6\u001b[0m \u001b[43mAnswer\u001b[49m\u001b[38;5;241m.\u001b[39mhexToDec(\u001b[38;5;124m'\u001b[39m\u001b[38;5;124mA2\u001b[39m\u001b[38;5;124m'\u001b[39m)\n\u001b[1;32m      7\u001b[0m Answer\u001b[38;5;241m.\u001b[39mhexToDec(\u001b[38;5;124m'\u001b[39m\u001b[38;5;124mspam spam spam\u001b[39m\u001b[38;5;124m'\u001b[39m)\n",
      "\u001b[0;31mNameError\u001b[0m: name 'Answer' is not defined"
     ]
    }
   ],
   "source": [
    "\n",
    "# This is an example of how your code will be called.\n",
    "# Your function should return the factorial of the number.\n",
    "# You can edit this code to try different testing cases, which\n",
    "# will run before the challenge test cases.\n",
    "\n",
    "Answer.hexToDec('A2')\n",
    "Answer.hexToDec('spam spam spam')"
   ]
  },
  {
   "cell_type": "code",
   "execution_count": null,
   "id": "c98b7fe0-3d24-4004-958d-a25749676b4a",
   "metadata": {},
   "outputs": [],
   "source": []
  },
  {
   "cell_type": "markdown",
   "id": "463c200f-b474-4b85-b057-31b392b9c301",
   "metadata": {},
   "source": [
    "### My playground\n"
   ]
  },
  {
   "cell_type": "code",
   "execution_count": 65,
   "id": "7e9ce37c-a050-4d5b-a785-8849db70e3a2",
   "metadata": {},
   "outputs": [],
   "source": [
    "# Python code​​​​​​‌​‌‌‌​‌​​‌‌​‌​‌‌​​‌‌‌‌‌‌​ below\n",
    "hexNumbers = {\n",
    "    '0': 0, '1': 1, '2': 2, '3': 3, '4': 4, '5': 5, '6': 6, '7': 7, '8': 8, '9': 9,\n",
    "    'A': 10, 'B': 11, 'C': 12, 'D': 13, 'E': 14, 'F': 15\n",
    "        }\n",
    "\n",
    "\n",
    "# Converts a string hexadecimal number into an integer decimal\n",
    "# If hexNum is not a valid hexadecimal number, returns None\n",
    "def hexToDec(hexNum):\n",
    "    #print('length of hex numbers is ', len(hexNumbers))\n",
    "    print('I am here and hexNum is', type(hexNum))\n",
    "    #print('passed in value is', hexNum)\n",
    "    #print('length of passed in value is', len(hexNum))\n",
    "\n",
    "    print('passed in value is', hexNum)\n",
    "    length=len(hexNum)\n",
    "    print('length is', length)\n",
    "\n",
    "    # Validate each item exists as a hex number, if not exit\n",
    "    # there should not be any spaces.\n",
    "    if ' ' in hexNum:\n",
    "        print('The string contains spaces', hexNum)\n",
    "        raise Exception('Error - you entered spaces in your hex value')\n",
    "    else:\n",
    "        print('The string DOES NOT contain spaces, continuing', hexNum)\n",
    "        for item in hexNum:\n",
    "            if item not in hexNumbers:\n",
    "                raise Exception('Error - this is not a hex value', item)\n",
    "\n",
    "    #create empty dictionary to use later\n",
    "    animals = {\n",
    "    }\n",
    "    print('animals is', animals)\n",
    "    # Reverse the list so that the positon lines up with the exponent value, \n",
    "    # i.e first place is exponent 0, second placement is exponent 1.\n",
    "    b = list(reversed(hexNum))\n",
    "    print(type(b))\n",
    "    print(b)\n",
    "\n",
    "    # initialize variables\n",
    "    position = 0\n",
    "    total = 0\n",
    "\n",
    "    # For loop to figure out the place of each item and do the math.\n",
    "    for each in b:\n",
    "        \n",
    "        print(each)\n",
    "        print('position is', position)\n",
    "        #find corresponding decimal value\n",
    "        print('decimal number is ', hexNumbers[each])\n",
    "        \n",
    "        # Create dictionary with position: value\n",
    "        #if position not in animals:\n",
    "        #    animals[position] = []\n",
    "        #animals[position].append(hexNumbers[each]) # This is the decimal value\n",
    "        #animals[position].append(each) # This is the hex value\n",
    "\n",
    "        # do the math?\n",
    "        print('each is', each)\n",
    "        print('hexNumbers[each] is', (hexNumbers[each]))\n",
    "        summary = hexNumbers[each] * (16 ** position)\n",
    "        print('summary is', summary)\n",
    "        #increment postion\n",
    "        position = position + 1\n",
    "        total = total + summary\n",
    "        print('total is', total)\n",
    "    \n",
    "              \n",
    "\n",
    "    \n",
    "    #for hex in hexNum:\n",
    "    #    # Lookup in the dictionary for the corresonding decimal number\n",
    "    #    print(hexNumbers[str(hexNum)])\n",
    "    pass"
   ]
  },
  {
   "cell_type": "code",
   "execution_count": null,
   "id": "275e7222-a493-4d06-8436-53b59d106368",
   "metadata": {},
   "outputs": [],
   "source": [
    "\n"
   ]
  },
  {
   "cell_type": "code",
   "execution_count": 66,
   "id": "2b65634d-ca29-4600-95b7-0e6e597b1769",
   "metadata": {},
   "outputs": [
    {
     "name": "stdout",
     "output_type": "stream",
     "text": [
      "{'0': 0, '1': 1, '2': 2, '3': 3, '4': 4, '5': 5, '6': 6, '7': 7, '8': 8, '9': 9, 'A': 10, 'B': 11, 'C': 12, 'D': 13, 'E': 14, 'F': 15}\n"
     ]
    }
   ],
   "source": [
    "print(hexNumbers)"
   ]
  },
  {
   "cell_type": "code",
   "execution_count": 69,
   "id": "8242a117-0619-4f4d-88a1-4f1edd8b1e4d",
   "metadata": {},
   "outputs": [
    {
     "name": "stdout",
     "output_type": "stream",
     "text": [
      "I am here and hexNum is <class 'str'>\n",
      "passed in value is ABC\n",
      "length is 3\n",
      "The string DOES NOT contain spaces, continuing ABC\n",
      "animals is {}\n",
      "<class 'list'>\n",
      "['C', 'B', 'A']\n",
      "C\n",
      "position is 0\n",
      "decimal number is  12\n",
      "each is C\n",
      "hexNumbers[each] is 12\n",
      "summary is 12\n",
      "total is 12\n",
      "B\n",
      "position is 1\n",
      "decimal number is  11\n",
      "each is B\n",
      "hexNumbers[each] is 11\n",
      "summary is 176\n",
      "total is 188\n",
      "A\n",
      "position is 2\n",
      "decimal number is  10\n",
      "each is A\n",
      "hexNumbers[each] is 10\n",
      "summary is 2560\n",
      "total is 2748\n"
     ]
    }
   ],
   "source": [
    "hexToDec('ABC')"
   ]
  },
  {
   "cell_type": "code",
   "execution_count": 62,
   "id": "663adb9a-c77e-451c-8304-6e40a56cf089",
   "metadata": {},
   "outputs": [
    {
     "name": "stdout",
     "output_type": "stream",
     "text": [
      "I am here and hexNum is <class 'str'>\n",
      "passed in value is AB\n",
      "length is 2\n",
      "The string DOES NOT contain spaces, continuing AB\n",
      "animals is {}\n",
      "<class 'list'>\n",
      "['B', 'A']\n",
      "B\n",
      "position is 0\n",
      "decimal number is  11\n",
      "each is B\n",
      "hexNumbers[each] is 11\n",
      "summary is 11\n",
      "total is 11\n",
      "A\n",
      "position is 1\n",
      "decimal number is  10\n",
      "each is A\n",
      "hexNumbers[each] is 10\n",
      "summary is 160\n",
      "total is 171\n"
     ]
    }
   ],
   "source": [
    "hexToDec('AB')"
   ]
  },
  {
   "cell_type": "code",
   "execution_count": null,
   "id": "4a326877-51ca-42b0-a230-24156055a3b0",
   "metadata": {},
   "outputs": [],
   "source": []
  },
  {
   "cell_type": "code",
   "execution_count": null,
   "id": "adaec89e-caa9-4b66-ba8a-f00b5fd8fa94",
   "metadata": {},
   "outputs": [],
   "source": []
  },
  {
   "cell_type": "code",
   "execution_count": 72,
   "id": "af4228ed-0423-4d6c-9d1b-6b990d922ccf",
   "metadata": {},
   "outputs": [
    {
     "name": "stdout",
     "output_type": "stream",
     "text": [
      "7\n"
     ]
    }
   ],
   "source": [
    "my_dict = {'1': 3, '2': 7, '3': 14}\n",
    "\n",
    "number = 2\n",
    "print(my_dict[str(number)])"
   ]
  },
  {
   "cell_type": "code",
   "execution_count": null,
   "id": "5a7cdd36-b4b7-4311-baa2-f769a8b5e506",
   "metadata": {},
   "outputs": [],
   "source": []
  },
  {
   "cell_type": "code",
   "execution_count": null,
   "id": "047a303a-7d80-47af-9c6e-2106a5bea3c0",
   "metadata": {},
   "outputs": [],
   "source": []
  },
  {
   "cell_type": "markdown",
   "id": "9d169faa-04d4-47d8-af92-2487d0b25681",
   "metadata": {},
   "source": [
    "### From the class section of the videos\n"
   ]
  },
  {
   "cell_type": "code",
   "execution_count": 6,
   "id": "63d1e938-c425-4799-8118-aea54c35bbc3",
   "metadata": {},
   "outputs": [],
   "source": [
    "class Dog:\n",
    "    def __init__(self, name):\n",
    "        self.name = name\n",
    "        self.legs = 4\n",
    "    \n",
    "    def speak(self):\n",
    "        print(self.name + ' says: Bark!')\n",
    "        \n"
   ]
  },
  {
   "cell_type": "code",
   "execution_count": 7,
   "id": "e905eb10-c5dd-4ea8-8569-eddf2a2e6abf",
   "metadata": {},
   "outputs": [],
   "source": [
    "my_dog = Dog('Rover')\n",
    "another_dog = Dog('Fluffy')"
   ]
  },
  {
   "cell_type": "code",
   "execution_count": 8,
   "id": "7e0a9b14-6a9f-402c-8961-181a0d889bb5",
   "metadata": {},
   "outputs": [
    {
     "name": "stdout",
     "output_type": "stream",
     "text": [
      "Rover says: Bark!\n"
     ]
    }
   ],
   "source": [
    "my_dog.speak()"
   ]
  },
  {
   "cell_type": "code",
   "execution_count": 17,
   "id": "78a62738-91d4-41ee-b603-1ac05c0f1f12",
   "metadata": {},
   "outputs": [
    {
     "ename": "NameError",
     "evalue": "name 'another_dog' is not defined",
     "output_type": "error",
     "traceback": [
      "\u001b[0;31m---------------------------------------------------------------------------\u001b[0m",
      "\u001b[0;31mNameError\u001b[0m                                 Traceback (most recent call last)",
      "Cell \u001b[0;32mIn[17], line 1\u001b[0m\n\u001b[0;32m----> 1\u001b[0m \u001b[43manother_dog\u001b[49m\u001b[38;5;241m.\u001b[39mspeak()\n",
      "\u001b[0;31mNameError\u001b[0m: name 'another_dog' is not defined"
     ]
    }
   ],
   "source": [
    "another_dog.speak()"
   ]
  },
  {
   "cell_type": "code",
   "execution_count": null,
   "id": "840aaf28-b1cd-4bff-962a-6a83e3e02447",
   "metadata": {},
   "outputs": [],
   "source": []
  },
  {
   "cell_type": "code",
   "execution_count": null,
   "id": "acfa9ade-e6e9-4c7c-9cfd-feaf86914555",
   "metadata": {},
   "outputs": [],
   "source": []
  },
  {
   "cell_type": "code",
   "execution_count": null,
   "id": "80e8afa4-deca-42a3-92b9-06a8522d5c2d",
   "metadata": {
    "jupyter": {
     "source_hidden": true
    }
   },
   "outputs": [],
   "source": []
  },
  {
   "cell_type": "code",
   "execution_count": null,
   "id": "883aafcb-9c6f-4689-bbbc-fff8f9090f64",
   "metadata": {},
   "outputs": [],
   "source": []
  },
  {
   "cell_type": "code",
   "execution_count": null,
   "id": "52411ee4-8ae6-4997-8ab0-899d0256a815",
   "metadata": {},
   "outputs": [],
   "source": []
  },
  {
   "cell_type": "code",
   "execution_count": null,
   "id": "40657f9e-da1e-4c27-ade5-7237c07c5c42",
   "metadata": {},
   "outputs": [],
   "source": []
  },
  {
   "cell_type": "code",
   "execution_count": null,
   "id": "8aee1dd7-32f2-41a6-8b10-05d56acf7bfc",
   "metadata": {},
   "outputs": [],
   "source": []
  },
  {
   "cell_type": "markdown",
   "id": "6133f755-1f3d-4d96-bbc1-6c409fa36fdb",
   "metadata": {},
   "source": [
    "### My clean up area\n"
   ]
  },
  {
   "cell_type": "code",
   "execution_count": 3,
   "id": "8378cfa9-07f1-4126-8045-5846bb9dd8b6",
   "metadata": {},
   "outputs": [],
   "source": [
    "# Python code​​​​​​‌​‌‌‌​‌​​‌‌​‌​‌‌​​‌‌‌‌‌‌​ below\n",
    "  \n",
    "\n",
    "hexNumbers = {\n",
    "        '0': 0, '1': 1, '2': 2, '3': 3, '4': 4, '5': 5, '6': 6, '7': 7, '8': 8, '9': 9,\n",
    "        'A': 10, 'B': 11, 'C': 12, 'D': 13, 'E': 14, 'F': 15\n",
    "        }\n",
    "\n",
    "\n",
    "# Converts a string hexadecimal number into an integer decimal\n",
    "# If hexNum is not a valid hexadecimal number, returns None\n",
    "def hexToDec(hexNum):\n",
    "    length=len(hexNum)\n",
    "\n",
    "    # Validate each item exists as a hex number, if not exit\n",
    "    # there should not be any spaces.\n",
    "    if ' ' in hexNum:\n",
    "        print('The string contains spaces', hexNum)\n",
    "        return None\n",
    "    else:\n",
    "        for item in hexNum:\n",
    "            if item not in hexNumbers:\n",
    "                return None\n",
    "\n",
    "    # Reverse the list so that the positon lines up with the exponent value, \n",
    "    # i.e first place is exponent 0, second placement is exponent 1.\n",
    "    b = list(reversed(hexNum))\n",
    "\n",
    "    # initialize variables\n",
    "    position = 0\n",
    "    total = 0\n",
    "\n",
    "    # For loop to figure out the place of each item and do the math.\n",
    "    for each in b:\n",
    "        # do the math?\n",
    "        summary = hexNumbers[each] * (16 ** position)\n",
    "        #increment postion\n",
    "        position = position + 1\n",
    "        total = total + summary\n",
    "    \n",
    "    #print(type(total))\n",
    "    return(total)\n",
    "    \n",
    "    pass\n"
   ]
  },
  {
   "cell_type": "code",
   "execution_count": 4,
   "id": "3252d669-3a01-49fe-a911-e581bee6f7f9",
   "metadata": {},
   "outputs": [
    {
     "data": {
      "text/plain": [
       "171"
      ]
     },
     "execution_count": 4,
     "metadata": {},
     "output_type": "execute_result"
    }
   ],
   "source": [
    "hexToDec('AB')"
   ]
  },
  {
   "cell_type": "code",
   "execution_count": null,
   "id": "251ac78f-4867-4484-be21-7abb244969b0",
   "metadata": {},
   "outputs": [],
   "source": [
    "\n"
   ]
  },
  {
   "cell_type": "code",
   "execution_count": null,
   "id": "e9e1017a-aff6-4af3-aa6c-a60e8ddba3e8",
   "metadata": {},
   "outputs": [],
   "source": []
  },
  {
   "cell_type": "code",
   "execution_count": null,
   "id": "09986a79-80f6-4912-8fbe-0ad8902ca8aa",
   "metadata": {},
   "outputs": [],
   "source": []
  },
  {
   "cell_type": "code",
   "execution_count": null,
   "id": "0fd8057f-31c8-4ae6-a4dd-816d71750643",
   "metadata": {},
   "outputs": [],
   "source": []
  },
  {
   "cell_type": "code",
   "execution_count": null,
   "id": "8a151e74-e6c9-4c67-970f-8b75b20e51af",
   "metadata": {},
   "outputs": [],
   "source": []
  },
  {
   "cell_type": "code",
   "execution_count": null,
   "id": "20f2e1ea-d58e-47bd-ab9f-a3115e0486fc",
   "metadata": {},
   "outputs": [],
   "source": []
  },
  {
   "cell_type": "code",
   "execution_count": null,
   "id": "afbe3fa4-6400-4b6d-a9f8-8484ed978077",
   "metadata": {},
   "outputs": [],
   "source": []
  },
  {
   "cell_type": "code",
   "execution_count": 110,
   "id": "1bcb036b-16c4-4f0f-9476-cab4344ff37a",
   "metadata": {},
   "outputs": [],
   "source": [
    "class MyClass:\n",
    "    \"\"\"A simple example class\"\"\"\n",
    "    i = 12345\n",
    "\n",
    "    def f(self):\n",
    "        return 'hello world'"
   ]
  },
  {
   "cell_type": "code",
   "execution_count": 111,
   "id": "edb5bd98-0434-4c2e-9629-1099b1635001",
   "metadata": {},
   "outputs": [],
   "source": [
    "x = MyClass()\n"
   ]
  },
  {
   "cell_type": "code",
   "execution_count": 112,
   "id": "42e180fd-6f5b-4723-96e7-34d6f64fe865",
   "metadata": {},
   "outputs": [
    {
     "name": "stdout",
     "output_type": "stream",
     "text": [
      "<__main__.MyClass object at 0x109ffe6f0>\n"
     ]
    }
   ],
   "source": [
    "print(x)"
   ]
  },
  {
   "cell_type": "code",
   "execution_count": null,
   "id": "baa0a152-6157-4ec3-9ed6-4ec50d7c8e34",
   "metadata": {},
   "outputs": [],
   "source": []
  },
  {
   "cell_type": "code",
   "execution_count": null,
   "id": "e9dfcd54-ba27-4647-9646-d77ea39332f9",
   "metadata": {},
   "outputs": [],
   "source": []
  },
  {
   "cell_type": "code",
   "execution_count": 6,
   "id": "bae2ead4-bc76-4d78-8e19-fa0b05f5c8b3",
   "metadata": {},
   "outputs": [
    {
     "data": {
      "text/plain": [
       "5"
      ]
     },
     "execution_count": 6,
     "metadata": {},
     "output_type": "execute_result"
    }
   ],
   "source": [
    "int('101', 2)\n"
   ]
  },
  {
   "cell_type": "markdown",
   "id": "bc9c69d8-2f24-4815-b9e9-2e9801d93bd0",
   "metadata": {},
   "source": [
    "### Try something new since what I has wasn't working\n"
   ]
  },
  {
   "cell_type": "code",
   "execution_count": 7,
   "id": "9b0afc2e-84f7-46b2-9ec3-b14aee9e903d",
   "metadata": {},
   "outputs": [
    {
     "data": {
      "text/plain": [
       "8"
      ]
     },
     "execution_count": 7,
     "metadata": {},
     "output_type": "execute_result"
    }
   ],
   "source": [
    "int(8.7)"
   ]
  },
  {
   "cell_type": "code",
   "execution_count": 8,
   "id": "92075fcd-3741-4649-8fe1-0964df279f84",
   "metadata": {},
   "outputs": [
    {
     "data": {
      "text/plain": [
       "True"
      ]
     },
     "execution_count": 8,
     "metadata": {},
     "output_type": "execute_result"
    }
   ],
   "source": [
    "bool(-1) == 1"
   ]
  },
  {
   "cell_type": "code",
   "execution_count": null,
   "id": "3c3139ff-d2ac-4f5c-915b-3c0619d75343",
   "metadata": {},
   "outputs": [],
   "source": []
  }
 ],
 "metadata": {
  "kernelspec": {
   "display_name": "Python 3 (ipykernel)",
   "language": "python",
   "name": "python3"
  },
  "language_info": {
   "codemirror_mode": {
    "name": "ipython",
    "version": 3
   },
   "file_extension": ".py",
   "mimetype": "text/x-python",
   "name": "python",
   "nbconvert_exporter": "python",
   "pygments_lexer": "ipython3",
   "version": "3.12.3"
  }
 },
 "nbformat": 4,
 "nbformat_minor": 5
}
