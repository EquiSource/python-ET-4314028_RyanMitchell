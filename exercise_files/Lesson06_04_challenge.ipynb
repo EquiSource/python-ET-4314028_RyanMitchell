{
 "cells": [
  {
   "cell_type": "code",
   "execution_count": null,
   "id": "e47e205d-e914-42b3-b2ae-5aec308df016",
   "metadata": {},
   "outputs": [],
   "source": []
  },
  {
   "cell_type": "code",
   "execution_count": null,
   "id": "fd688ebe-eaa4-4d0d-9319-2789c20a9d13",
   "metadata": {},
   "outputs": [],
   "source": []
  },
  {
   "cell_type": "code",
   "execution_count": 26,
   "id": "6f3cf217-c5d0-458b-a49f-77d3ad419968",
   "metadata": {},
   "outputs": [],
   "source": [
    "# Python code​​​​​​‌​‌‌‌‌​​​‌​​​​‌‌‌​‌‌​‌‌‌​ below\n",
    "def triangle(num):\n",
    "    if num == 1:\n",
    "        return num\n",
    "    return num + triangle(num - 1)\n",
    "\n",
    "def square(num):\n",
    "    story=triangle(num) + triangle(num-1)\n",
    "    return story\n",
    "    pass"
   ]
  },
  {
   "cell_type": "code",
   "execution_count": 28,
   "id": "d2bb3deb-5d12-4e3e-9ca7-3b2614c80a38",
   "metadata": {},
   "outputs": [
    {
     "data": {
      "text/plain": [
       "4"
      ]
     },
     "execution_count": 28,
     "metadata": {},
     "output_type": "execute_result"
    }
   ],
   "source": [
    "square(2)\n"
   ]
  },
  {
   "cell_type": "code",
   "execution_count": 29,
   "id": "f1a1d459-ee14-4fed-b8bd-d5e88381c230",
   "metadata": {},
   "outputs": [],
   "source": [
    "def someFunc(var1, var2, var3, var4):\n",
    "    print('hi')"
   ]
  },
  {
   "cell_type": "code",
   "execution_count": 36,
   "id": "dd7df8de-3d11-40dd-bea9-76272245920f",
   "metadata": {},
   "outputs": [
    {
     "ename": "SyntaxError",
     "evalue": "positional argument follows keyword argument (2503326131.py, line 4)",
     "output_type": "error",
     "traceback": [
      "\u001b[0;36m  Cell \u001b[0;32mIn[36], line 4\u001b[0;36m\u001b[0m\n\u001b[0;31m    someFunc(var1=1,2,3,4)\u001b[0m\n\u001b[0m                         ^\u001b[0m\n\u001b[0;31mSyntaxError\u001b[0m\u001b[0;31m:\u001b[0m positional argument follows keyword argument\n"
     ]
    }
   ],
   "source": [
    "someFunc(var1=1, var2=2, var4=4, var3=3)\n",
    "someFunc(1,2,3,4)\n",
    "someFunc(1, 2, var4=4, var3=3)\n",
    "someFunc(var1=1,2,3,4)"
   ]
  },
  {
   "cell_type": "code",
   "execution_count": 37,
   "id": "ef372ba9-2686-478d-84fe-dd529649faae",
   "metadata": {},
   "outputs": [
    {
     "name": "stdout",
     "output_type": "stream",
     "text": [
      "17\n"
     ]
    }
   ],
   "source": [
    "def someFunc(func):\n",
    "    print(func(5) + 2)\n",
    "\n",
    "someFunc(lambda x: x * 3)"
   ]
  },
  {
   "cell_type": "code",
   "execution_count": null,
   "id": "26c818c2-a1c8-4603-9073-c7897cb3a2b9",
   "metadata": {},
   "outputs": [],
   "source": []
  }
 ],
 "metadata": {
  "kernelspec": {
   "display_name": "Python 3 (ipykernel)",
   "language": "python",
   "name": "python3"
  },
  "language_info": {
   "codemirror_mode": {
    "name": "ipython",
    "version": 3
   },
   "file_extension": ".py",
   "mimetype": "text/x-python",
   "name": "python",
   "nbconvert_exporter": "python",
   "pygments_lexer": "ipython3",
   "version": "3.12.3"
  }
 },
 "nbformat": 4,
 "nbformat_minor": 5
}
