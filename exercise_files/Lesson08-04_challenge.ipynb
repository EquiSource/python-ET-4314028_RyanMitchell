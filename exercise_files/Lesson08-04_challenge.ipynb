{
 "cells": [
  {
   "cell_type": "code",
   "execution_count": null,
   "id": "88bc35c6-1402-4e10-b591-f16f5963ec36",
   "metadata": {},
   "outputs": [],
   "source": []
  },
  {
   "cell_type": "code",
   "execution_count": null,
   "id": "3f786397-0dfc-4370-b6e6-88eb6812b065",
   "metadata": {},
   "outputs": [],
   "source": []
  },
  {
   "cell_type": "code",
   "execution_count": 102,
   "id": "4e8e45cb-cc52-4f10-8fed-80f7c89374e7",
   "metadata": {},
   "outputs": [],
   "source": [
    "# Python code​​​​​​‌​‌‌‌‌​​‌​‌​​​​​‌‌‌‌​​​‌‌ below\n",
    "class NonIntArgumentException(Exception):\n",
    "    pass\n",
    "    \n",
    "  \n",
    "def handleNonIntArguments(func):\n",
    "    def wrapper(*args):\n",
    "        for item in args: \n",
    "            if type(item) is not int:\n",
    "                raise NonIntArgumentException()\n",
    "        return func(*args)\n",
    "    return wrapper\n",
    "\n"
   ]
  },
  {
   "cell_type": "code",
   "execution_count": 106,
   "id": "3313c37a-7acc-4ed1-bd30-aece5bfeb957",
   "metadata": {},
   "outputs": [
    {
     "name": "stdout",
     "output_type": "stream",
     "text": [
      "Hooray!\n"
     ]
    }
   ],
   "source": [
    "@handleNonIntArguments\n",
    "def sum(a, b, c):\n",
    "    return a + b + c\n",
    "    \n",
    "try:\n",
    "    result=sum(1, 2, 'a')\n",
    "    print('result is', result)\n",
    "    #result = sum(0, 2, 3)\n",
    "    print('This should not print out')\n",
    "except NonIntArgumentException as e:\n",
    "    print('Hooray!')"
   ]
  },
  {
   "cell_type": "code",
   "execution_count": null,
   "id": "84ff0b38-71cf-4158-926a-6296556c5a1c",
   "metadata": {},
   "outputs": [],
   "source": []
  },
  {
   "cell_type": "code",
   "execution_count": null,
   "id": "22956e5a-c112-4ed9-8262-d03f1616b598",
   "metadata": {},
   "outputs": [],
   "source": [
    "args = (1, 2, 3, 'a')\n",
    "\n",
    "for arg in args: \n",
    "    if type(arg) is not int:\n",
    "        print(f'{arg} is not not an integer!')"
   ]
  },
  {
   "cell_type": "code",
   "execution_count": null,
   "id": "e46e42b8-3572-4017-ab12-d036a0f9effe",
   "metadata": {},
   "outputs": [],
   "source": [
    "def causeError():\n",
    "    try:\n",
    "        return 1 + 'a'\n",
    "\n",
    "    except TypeError:\n",
    "        print('There was a type error!')\n",
    "    except ZeroDivisionError:\n",
    "        print('There was a zero division error!')\n",
    "    except Exception:\n",
    "        print('There was some sort of error!')\n",
    "\n",
    "    \n",
    "causeError()"
   ]
  },
  {
   "cell_type": "code",
   "execution_count": 1,
   "id": "9e8b6ece-b30e-4068-827e-691c8649c99e",
   "metadata": {},
   "outputs": [
    {
     "ename": "NameError",
     "evalue": "name 'Answer' is not defined",
     "output_type": "error",
     "traceback": [
      "\u001b[0;31m---------------------------------------------------------------------------\u001b[0m",
      "\u001b[0;31mNameError\u001b[0m                                 Traceback (most recent call last)",
      "Cell \u001b[0;32mIn[1], line 5\u001b[0m\n\u001b[1;32m      1\u001b[0m \u001b[38;5;66;03m# This is how your code will be called.\u001b[39;00m\n\u001b[1;32m      2\u001b[0m \u001b[38;5;66;03m# Your answer should be the largest value in the numbers list.\u001b[39;00m\n\u001b[1;32m      3\u001b[0m \u001b[38;5;66;03m# You can edit this code to try different testing cases.\u001b[39;00m\n\u001b[0;32m----> 5\u001b[0m \u001b[38;5;129m@Answer\u001b[39m\u001b[38;5;241m.\u001b[39mhandleNonIntArguments\n\u001b[1;32m      6\u001b[0m \u001b[38;5;28;01mdef\u001b[39;00m \u001b[38;5;21msum\u001b[39m(a, b, c):\n\u001b[1;32m      7\u001b[0m     \u001b[38;5;28;01mreturn\u001b[39;00m a \u001b[38;5;241m+\u001b[39m b \u001b[38;5;241m+\u001b[39m c\n\u001b[1;32m      9\u001b[0m \u001b[38;5;28;01mtry\u001b[39;00m:\n",
      "\u001b[0;31mNameError\u001b[0m: name 'Answer' is not defined"
     ]
    }
   ],
   "source": [
    "# This is how your code will be called.\n",
    "# Your answer should be the largest value in the numbers list.\n",
    "# You can edit this code to try different testing cases.\n",
    "\n",
    "@Answer.handleNonIntArguments\n",
    "def sum(a, b, c):\n",
    "    return a + b + c\n",
    "\n",
    "try:\n",
    "    result = sum(1, 2, 'a')\n",
    "    print('This should not print out')\n",
    "except Answer.NonIntArgumentException as e:\n",
    "    print('Hooray!')"
   ]
  },
  {
   "cell_type": "code",
   "execution_count": null,
   "id": "c4e317a0-d30d-4c9f-8d5a-bb95195b744f",
   "metadata": {},
   "outputs": [],
   "source": []
  },
  {
   "cell_type": "code",
   "execution_count": 107,
   "id": "23e5db61-5695-4136-a39d-145f8d006e05",
   "metadata": {
    "jp-MarkdownHeadingCollapsed": true
   },
   "outputs": [
    {
     "name": "stdout",
     "output_type": "stream",
     "text": [
      "ArithmeticError\n"
     ]
    }
   ],
   "source": [
    "def causeError():\n",
    "    try:\n",
    "        1/0\n",
    "    except ArithmeticError:\n",
    "        print('ArithmeticError')\n",
    "    except Exception:\n",
    "        print('Exception')\n",
    "    except DivisionByZeroError:\n",
    "        print('DivisionByZero')\n",
    "\n",
    "causeError()"
   ]
  },
  {
   "cell_type": "markdown",
   "id": "b8e97d26-0cd7-47c4-a9aa-75ef374396fe",
   "metadata": {},
   "source": [
    "# "
   ]
  },
  {
   "cell_type": "code",
   "execution_count": null,
   "id": "56e8d00e-d359-4b21-acd4-d5da13558915",
   "metadata": {},
   "outputs": [],
   "source": []
  }
 ],
 "metadata": {
  "kernelspec": {
   "display_name": "Python 3 (ipykernel)",
   "language": "python",
   "name": "python3"
  },
  "language_info": {
   "codemirror_mode": {
    "name": "ipython",
    "version": 3
   },
   "file_extension": ".py",
   "mimetype": "text/x-python",
   "name": "python",
   "nbconvert_exporter": "python",
   "pygments_lexer": "ipython3",
   "version": "3.12.3"
  }
 },
 "nbformat": 4,
 "nbformat_minor": 5
}
