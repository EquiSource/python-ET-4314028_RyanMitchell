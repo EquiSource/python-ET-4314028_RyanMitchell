{
 "cells": [
  {
   "cell_type": "markdown",
   "id": "29d92681-d9a8-485d-a4c5-eadfc62f16d2",
   "metadata": {},
   "source": [
    "Write a function that returns a list of all primes up to a given number.\n",
    "\n",
    "For each number, in order to determine if it is prime, take the following steps:\n",
    "\n",
    "# Find the square root of the number\n",
    "# Find all the primes up to that square root\n",
    "# Test to see if any of those primes are divisors\n",
    "# If a number has no prime divisors, it is prime!"
   ]
  },
  {
   "cell_type": "code",
   "execution_count": 8,
   "id": "7b33d42a-5bc6-4549-9917-5a682e19bcbf",
   "metadata": {},
   "outputs": [
    {
     "name": "stdout",
     "output_type": "stream",
     "text": [
      "2 is prime!\n",
      "3 is prime!\n",
      "5 is prime!\n",
      "7 is prime!\n",
      "11 is prime!\n",
      "13 is prime!\n",
      "17 is prime!\n",
      "19 is prime!\n",
      "23 is prime!\n",
      "29 is prime!\n",
      "31 is prime!\n",
      "37 is prime!\n",
      "41 is prime!\n",
      "43 is prime!\n",
      "47 is prime!\n",
      "53 is prime!\n",
      "59 is prime!\n",
      "61 is prime!\n",
      "67 is prime!\n",
      "71 is prime!\n",
      "73 is prime!\n",
      "79 is prime!\n",
      "83 is prime!\n",
      "89 is prime!\n",
      "97 is prime!\n"
     ]
    }
   ],
   "source": [
    "for number in range(2, 100):\n",
    "    for factor in range(2, int(number ** 0.5) + 1):\n",
    "        if number % factor == 0:\n",
    "            break\n",
    "    else:\n",
    "        print(f'{number} is prime!')"
   ]
  },
  {
   "cell_type": "code",
   "execution_count": 25,
   "id": "a3370300-2b65-4a43-9b55-8c462d935202",
   "metadata": {},
   "outputs": [
    {
     "name": "stdout",
     "output_type": "stream",
     "text": [
      "2 is prime!\n",
      "3 is prime!\n",
      "5 is prime!\n",
      "7 is prime!\n"
     ]
    }
   ],
   "source": [
    "for number in range(2, 10):\n",
    "    for factor in range(2, int(number ** 0.5) + 1):\n",
    "        if number % factor == 0:\n",
    "            break\n",
    "    else:\n",
    "        print(f'{number} is prime!')\n"
   ]
  },
  {
   "cell_type": "code",
   "execution_count": null,
   "id": "9a7b3fb3-6658-423c-81d0-191a98a4fdaa",
   "metadata": {},
   "outputs": [],
   "source": [
    "\n"
   ]
  },
  {
   "cell_type": "code",
   "execution_count": 28,
   "id": "948b5492-1c11-4fcf-892c-57be1cc9de32",
   "metadata": {},
   "outputs": [
    {
     "name": "stdout",
     "output_type": "stream",
     "text": [
      "1.7320508075688772\n"
     ]
    }
   ],
   "source": [
    "number=3\n",
    "\n",
    "factor=((number ** 0.5))\n",
    "print (factor)"
   ]
  },
  {
   "cell_type": "code",
   "execution_count": 32,
   "id": "e474d0e1-0132-40cf-a777-60df4b5bb503",
   "metadata": {},
   "outputs": [
    {
     "name": "stdout",
     "output_type": "stream",
     "text": [
      "3.0\n"
     ]
    }
   ],
   "source": [
    "import math\n",
    "\n",
    "print (math.sqrt(9))"
   ]
  },
  {
   "cell_type": "code",
   "execution_count": 195,
   "id": "1895836e-074d-4df9-837d-f78bfd973f6a",
   "metadata": {},
   "outputs": [],
   "source": [
    "import math\n",
    "def allPrimesUpTo(num):\n",
    "    print('num is :', num)\n",
    "    primeList=[2]\n",
    "    print('primeList is ', primeList)\n",
    "\n",
    "    for i in range(2, num + 1):\n",
    "        print('i is :', i)\n",
    "        sqroot=math.sqrt(i)\n",
    "        print('sqroot is :', sqroot)\n",
    "    \n",
    "    \n",
    "\n",
    "\n",
    "    pass\n",
    "    #for i in range(2, num + 1): \n",
    "    #    # Find the square root of the number\n",
    "    #    print('i is: ', i)\n",
    "    #    print('sqroot is ', int(math.sqrt(i)))\n",
    "              \n",
    "    #    for y in range(2, int(math.sqrt(i)) + 1):\n",
    "    #        if i % y == 0:\n",
    "    #            print('I got here, there is no remainder')\n",
    "    #            print('i is ', i)\n",
    "    #            print('y is ', y)\n",
    "    #            print('i % y is : ', i % y )\n",
    "    #        else:\n",
    "    #            print('I should append to primeList i:', i)\n",
    "    #            print('i % y is : ', i % y )\n",
    "    #            primeList.append(i) \n",
    "    #return primeList\n",
    "    #pass\n",
    "\n",
    "#print('primeList is ', primeList)\n",
    "#num = 100\n",
    "#result = Answer.allPrimesUpTo(num)\n",
    "\n",
    "\n",
    "#print('square root is', (math.sqrt(number)))\n",
    "\n",
    "\n",
    "\n",
    "    "
   ]
  },
  {
   "cell_type": "code",
   "execution_count": 196,
   "id": "4691724c-d9c1-43e5-9d0d-3b3e501cb6ac",
   "metadata": {},
   "outputs": [
    {
     "name": "stdout",
     "output_type": "stream",
     "text": [
      "num is : 5\n",
      "primeList is  [2]\n",
      "i is : 2\n",
      "sqroot is : 1.4142135623730951\n",
      "i is : 3\n",
      "sqroot is : 1.7320508075688772\n",
      "i is : 4\n",
      "sqroot is : 2.0\n",
      "i is : 5\n",
      "sqroot is : 2.23606797749979\n",
      "None\n"
     ]
    }
   ],
   "source": [
    "num=5\n",
    "result = allPrimesUpTo(num)\n",
    "print(result)"
   ]
  },
  {
   "cell_type": "code",
   "execution_count": 112,
   "id": "72d859c4-7f68-454a-858c-a49219e4dd5b",
   "metadata": {},
   "outputs": [
    {
     "name": "stdout",
     "output_type": "stream",
     "text": [
      "[2, 3, 5, 7]\n"
     ]
    }
   ],
   "source": [
    "import math\n",
    "\n",
    "def is_prime(num):\n",
    "    if num < 2:\n",
    "        return False\n",
    "    for i in range(2, int(math.sqrt(num)) + 1):\n",
    "        if num % i == 0:\n",
    "            return False\n",
    "    return True\n",
    "\n",
    "def primes_up_to(limit):\n",
    "    primes = []\n",
    "    for num in range(2, limit + 1):\n",
    "        if is_prime(num):\n",
    "            primes.append(num)\n",
    "    return primes\n",
    "\n",
    "# Call the function to find all prime numbers up to 51\n",
    "prime_numbers = primes_up_to(10)\n",
    "print(prime_numbers)\n"
   ]
  },
  {
   "cell_type": "code",
   "execution_count": 127,
   "id": "7376975c-7c37-4c40-a254-fccbb8aa9201",
   "metadata": {},
   "outputs": [
    {
     "name": "stdout",
     "output_type": "stream",
     "text": [
      "1\n"
     ]
    }
   ],
   "source": [
    "x = 5\n",
    "y = 2\n",
    "\n",
    "print(x % y)\n",
    "#modulus gives the remainder"
   ]
  },
  {
   "cell_type": "code",
   "execution_count": null,
   "id": "422f52ab-5be7-44ff-903d-ce7c2f51d64c",
   "metadata": {},
   "outputs": [],
   "source": []
  },
  {
   "cell_type": "code",
   "execution_count": 226,
   "id": "df31332b-2784-44fd-a35a-fe6659d5e531",
   "metadata": {},
   "outputs": [],
   "source": [
    "# Python code​​​​​​‌​‌‌‌‌​​​​‌​​‌​‌‌​‌​​​​‌‌ below\n",
    "# Use print(\"messages...\") to debug your solution.\n",
    "import math\n",
    "\n",
    "def allPrimesUpTo(num):\n",
    "    # Your code goes here.\n",
    "    primes = [2]\n",
    "    print('num is', num)\n",
    "    sqRoot=int(math.sqrt(num))\n",
    "    print('sqRoot is :', sqRoot)\n",
    "\n",
    "    for i in range(2, primes):\n",
    "        print('i is ', i)\n",
    "    \n",
    "    #for i in range(2, sqRoot + 1):\n",
    "    #    print('i is ', i)\n",
    "     \n",
    "    pass\n",
    "\n",
    "\n"
   ]
  },
  {
   "cell_type": "code",
   "execution_count": 227,
   "id": "49318cca-ca5b-4b36-a8cf-8deb8e29ef0a",
   "metadata": {},
   "outputs": [
    {
     "name": "stdout",
     "output_type": "stream",
     "text": [
      "num is 51\n",
      "sqRoot is : 7\n"
     ]
    },
    {
     "ename": "TypeError",
     "evalue": "'list' object cannot be interpreted as an integer",
     "output_type": "error",
     "traceback": [
      "\u001b[0;31m---------------------------------------------------------------------------\u001b[0m",
      "\u001b[0;31mTypeError\u001b[0m                                 Traceback (most recent call last)",
      "Cell \u001b[0;32mIn[227], line 2\u001b[0m\n\u001b[1;32m      1\u001b[0m num \u001b[38;5;241m=\u001b[39m \u001b[38;5;241m51\u001b[39m\n\u001b[0;32m----> 2\u001b[0m result \u001b[38;5;241m=\u001b[39m \u001b[43mallPrimesUpTo\u001b[49m\u001b[43m(\u001b[49m\u001b[43mnum\u001b[49m\u001b[43m)\u001b[49m\n\u001b[1;32m      3\u001b[0m \u001b[38;5;28mprint\u001b[39m(result)\n",
      "Cell \u001b[0;32mIn[226], line 12\u001b[0m, in \u001b[0;36mallPrimesUpTo\u001b[0;34m(num)\u001b[0m\n\u001b[1;32m      9\u001b[0m sqRoot\u001b[38;5;241m=\u001b[39m\u001b[38;5;28mint\u001b[39m(math\u001b[38;5;241m.\u001b[39msqrt(num))\n\u001b[1;32m     10\u001b[0m \u001b[38;5;28mprint\u001b[39m(\u001b[38;5;124m'\u001b[39m\u001b[38;5;124msqRoot is :\u001b[39m\u001b[38;5;124m'\u001b[39m, sqRoot)\n\u001b[0;32m---> 12\u001b[0m \u001b[38;5;28;01mfor\u001b[39;00m i \u001b[38;5;129;01min\u001b[39;00m \u001b[38;5;28;43mrange\u001b[39;49m\u001b[43m(\u001b[49m\u001b[38;5;241;43m2\u001b[39;49m\u001b[43m,\u001b[49m\u001b[43m \u001b[49m\u001b[43mprimes\u001b[49m\u001b[43m)\u001b[49m:\n\u001b[1;32m     13\u001b[0m     \u001b[38;5;28mprint\u001b[39m(\u001b[38;5;124m'\u001b[39m\u001b[38;5;124mi is \u001b[39m\u001b[38;5;124m'\u001b[39m, i)\n\u001b[1;32m     15\u001b[0m \u001b[38;5;66;03m#for i in range(2, sqRoot + 1):\u001b[39;00m\n\u001b[1;32m     16\u001b[0m \u001b[38;5;66;03m#    print('i is ', i)\u001b[39;00m\n",
      "\u001b[0;31mTypeError\u001b[0m: 'list' object cannot be interpreted as an integer"
     ]
    }
   ],
   "source": [
    "num = 51\n",
    "result = allPrimesUpTo(num)\n",
    "print(result)"
   ]
  },
  {
   "cell_type": "code",
   "execution_count": 231,
   "id": "db3d9d95-c03b-4db0-a42b-3dfb33772dcb",
   "metadata": {},
   "outputs": [],
   "source": [
    "import math\n",
    "\n",
    "def is_prime(num):\n",
    "    if num < 2:\n",
    "        return False\n",
    "    for i in range(2, int(math.sqrt(num)) + 1):\n",
    "        if num % i == 0:\n",
    "            return False\n",
    "    return True\n",
    "\n",
    "def allPrimesUpTo(limit):\n",
    "    primes = []\n",
    "    for num in range(2, limit + 1):\n",
    "        if is_prime(num):\n",
    "            primes.append(num)\n",
    "    return primes"
   ]
  },
  {
   "cell_type": "code",
   "execution_count": 233,
   "id": "e6645f62-83c9-4d16-bb1a-231aeec7e5b3",
   "metadata": {},
   "outputs": [
    {
     "name": "stdout",
     "output_type": "stream",
     "text": [
      "[2, 3, 5, 7, 11, 13, 17, 19, 23, 29, 31, 37, 41, 43, 47, 53, 59, 61, 67, 71, 73, 79, 83, 89, 97]\n"
     ]
    }
   ],
   "source": [
    "num = 100\n",
    "result = allPrimesUpTo(num)\n",
    "print(result)"
   ]
  },
  {
   "cell_type": "code",
   "execution_count": null,
   "id": "97b581e8-bc54-44cc-b034-d20377075817",
   "metadata": {},
   "outputs": [],
   "source": []
  },
  {
   "cell_type": "code",
   "execution_count": null,
   "id": "3ac9e338-b9dd-4faf-9057-aa48c88f9c93",
   "metadata": {},
   "outputs": [],
   "source": [
    "Their solution"
   ]
  },
  {
   "cell_type": "code",
   "execution_count": 266,
   "id": "8fd95d11-716f-4252-a1c1-faeeefd7ce16",
   "metadata": {},
   "outputs": [],
   "source": [
    "def allPrimesUpTo(num):\n",
    "    primes = [2]\n",
    "    for number in range(3, num):\n",
    "        sqrtNum = number**0.5\n",
    "        print('number is :', number)\n",
    "        print('square root is :', sqrtNum)\n",
    "        for factor in primes:\n",
    "            if number % factor == 0:\n",
    "                #Not prime\n",
    "                break\n",
    "            if factor > sqrtNum:\n",
    "                # Its prime\n",
    "                primes.append(number)\n",
    "                break\n",
    "    return primes"
   ]
  },
  {
   "cell_type": "code",
   "execution_count": 267,
   "id": "1ef61ad5-c501-44db-8414-6801e52ada3a",
   "metadata": {},
   "outputs": [
    {
     "name": "stdout",
     "output_type": "stream",
     "text": [
      "number is : 3\n",
      "square root is : 1.7320508075688772\n",
      "number is : 4\n",
      "square root is : 2.0\n",
      "number is : 5\n",
      "square root is : 2.23606797749979\n",
      "number is : 6\n",
      "square root is : 2.449489742783178\n",
      "number is : 7\n",
      "square root is : 2.6457513110645907\n",
      "number is : 8\n",
      "square root is : 2.8284271247461903\n",
      "number is : 9\n",
      "square root is : 3.0\n",
      "number is : 10\n",
      "square root is : 3.1622776601683795\n",
      "number is : 11\n",
      "square root is : 3.3166247903554\n",
      "number is : 12\n",
      "square root is : 3.4641016151377544\n",
      "number is : 13\n",
      "square root is : 3.605551275463989\n",
      "number is : 14\n",
      "square root is : 3.7416573867739413\n",
      "number is : 15\n",
      "square root is : 3.872983346207417\n",
      "number is : 16\n",
      "square root is : 4.0\n",
      "number is : 17\n",
      "square root is : 4.123105625617661\n",
      "number is : 18\n",
      "square root is : 4.242640687119285\n",
      "number is : 19\n",
      "square root is : 4.358898943540674\n",
      "number is : 20\n",
      "square root is : 4.47213595499958\n",
      "number is : 21\n",
      "square root is : 4.58257569495584\n",
      "number is : 22\n",
      "square root is : 4.69041575982343\n",
      "number is : 23\n",
      "square root is : 4.795831523312719\n",
      "number is : 24\n",
      "square root is : 4.898979485566356\n",
      "number is : 25\n",
      "square root is : 5.0\n",
      "number is : 26\n",
      "square root is : 5.0990195135927845\n",
      "number is : 27\n",
      "square root is : 5.196152422706632\n",
      "number is : 28\n",
      "square root is : 5.291502622129181\n",
      "number is : 29\n",
      "square root is : 5.385164807134504\n",
      "number is : 30\n",
      "square root is : 5.477225575051661\n",
      "number is : 31\n",
      "square root is : 5.5677643628300215\n",
      "number is : 32\n",
      "square root is : 5.656854249492381\n",
      "number is : 33\n",
      "square root is : 5.744562646538029\n",
      "number is : 34\n",
      "square root is : 5.830951894845301\n",
      "number is : 35\n",
      "square root is : 5.916079783099616\n",
      "number is : 36\n",
      "square root is : 6.0\n",
      "number is : 37\n",
      "square root is : 6.082762530298219\n",
      "number is : 38\n",
      "square root is : 6.164414002968976\n",
      "number is : 39\n",
      "square root is : 6.244997998398398\n",
      "number is : 40\n",
      "square root is : 6.324555320336759\n",
      "number is : 41\n",
      "square root is : 6.4031242374328485\n",
      "number is : 42\n",
      "square root is : 6.48074069840786\n",
      "number is : 43\n",
      "square root is : 6.557438524302\n",
      "number is : 44\n",
      "square root is : 6.6332495807108\n",
      "number is : 45\n",
      "square root is : 6.708203932499369\n",
      "number is : 46\n",
      "square root is : 6.782329983125268\n",
      "number is : 47\n",
      "square root is : 6.855654600401044\n",
      "number is : 48\n",
      "square root is : 6.928203230275509\n",
      "number is : 49\n",
      "square root is : 7.0\n",
      "number is : 50\n",
      "square root is : 7.0710678118654755\n",
      "number is : 51\n",
      "square root is : 7.14142842854285\n",
      "number is : 52\n",
      "square root is : 7.211102550927978\n",
      "number is : 53\n",
      "square root is : 7.280109889280518\n",
      "number is : 54\n",
      "square root is : 7.3484692283495345\n",
      "number is : 55\n",
      "square root is : 7.416198487095663\n",
      "number is : 56\n",
      "square root is : 7.483314773547883\n",
      "number is : 57\n",
      "square root is : 7.54983443527075\n",
      "number is : 58\n",
      "square root is : 7.615773105863909\n",
      "number is : 59\n",
      "square root is : 7.681145747868608\n",
      "number is : 60\n",
      "square root is : 7.745966692414834\n",
      "number is : 61\n",
      "square root is : 7.810249675906654\n",
      "number is : 62\n",
      "square root is : 7.874007874011811\n",
      "number is : 63\n",
      "square root is : 7.937253933193772\n",
      "number is : 64\n",
      "square root is : 8.0\n",
      "number is : 65\n",
      "square root is : 8.06225774829855\n",
      "number is : 66\n",
      "square root is : 8.12403840463596\n",
      "number is : 67\n",
      "square root is : 8.18535277187245\n",
      "number is : 68\n",
      "square root is : 8.246211251235321\n",
      "number is : 69\n",
      "square root is : 8.306623862918075\n",
      "number is : 70\n",
      "square root is : 8.366600265340756\n",
      "number is : 71\n",
      "square root is : 8.426149773176359\n",
      "number is : 72\n",
      "square root is : 8.48528137423857\n",
      "number is : 73\n",
      "square root is : 8.54400374531753\n",
      "number is : 74\n",
      "square root is : 8.602325267042627\n",
      "number is : 75\n",
      "square root is : 8.660254037844387\n",
      "number is : 76\n",
      "square root is : 8.717797887081348\n",
      "number is : 77\n",
      "square root is : 8.774964387392123\n",
      "number is : 78\n",
      "square root is : 8.831760866327848\n",
      "number is : 79\n",
      "square root is : 8.888194417315589\n",
      "number is : 80\n",
      "square root is : 8.94427190999916\n",
      "number is : 81\n",
      "square root is : 9.0\n",
      "number is : 82\n",
      "square root is : 9.055385138137417\n",
      "number is : 83\n",
      "square root is : 9.1104335791443\n",
      "number is : 84\n",
      "square root is : 9.16515138991168\n",
      "number is : 85\n",
      "square root is : 9.219544457292887\n",
      "number is : 86\n",
      "square root is : 9.273618495495704\n",
      "number is : 87\n",
      "square root is : 9.327379053088816\n",
      "number is : 88\n",
      "square root is : 9.38083151964686\n",
      "number is : 89\n",
      "square root is : 9.433981132056603\n",
      "number is : 90\n",
      "square root is : 9.486832980505138\n",
      "number is : 91\n",
      "square root is : 9.539392014169456\n",
      "number is : 92\n",
      "square root is : 9.591663046625438\n",
      "number is : 93\n",
      "square root is : 9.643650760992955\n",
      "number is : 94\n",
      "square root is : 9.695359714832659\n",
      "number is : 95\n",
      "square root is : 9.746794344808963\n",
      "number is : 96\n",
      "square root is : 9.797958971132712\n",
      "number is : 97\n",
      "square root is : 9.848857801796104\n",
      "number is : 98\n",
      "square root is : 9.899494936611665\n",
      "number is : 99\n",
      "square root is : 9.9498743710662\n",
      "[2, 3, 5, 7, 11, 13, 17, 19, 23, 29, 31, 37, 41, 43, 47, 53, 59, 61, 67, 71, 73, 79, 83, 89, 97]\n"
     ]
    }
   ],
   "source": [
    "num = 100\n",
    "result = allPrimesUpTo(num)\n",
    "print(result)"
   ]
  },
  {
   "cell_type": "code",
   "execution_count": 260,
   "id": "488b5c6d-91af-4d00-88c5-c34cd594ed17",
   "metadata": {},
   "outputs": [],
   "source": [
    "import math\n",
    "def foo(num):\n",
    "    really=(math.sqrt(num))\n",
    "    print('really is ', really)\n",
    "\n",
    "def theirs(num):\n",
    "    sqrtNum = num**0.5\n",
    "    print('square root is :', sqrtNum)"
   ]
  },
  {
   "cell_type": "code",
   "execution_count": 261,
   "id": "88bd51f0-cd75-46d0-add7-a05a0da67ded",
   "metadata": {},
   "outputs": [
    {
     "name": "stdout",
     "output_type": "stream",
     "text": [
      "really is  10.0\n",
      "square root is : 10.0\n"
     ]
    }
   ],
   "source": [
    "num = 100\n",
    "result = foo(num)\n",
    "\n",
    "result = theirs(num)"
   ]
  },
  {
   "cell_type": "code",
   "execution_count": null,
   "id": "254d3f55-a332-4016-9100-e29647a6594c",
   "metadata": {},
   "outputs": [],
   "source": []
  },
  {
   "cell_type": "markdown",
   "id": "fd17b277-7d30-45b1-aec8-3da66454fcd9",
   "metadata": {},
   "source": [
    "test questions"
   ]
  },
  {
   "cell_type": "code",
   "execution_count": null,
   "id": "634bd9e2-03c7-4826-8e5c-cafe7c6d8b3e",
   "metadata": {},
   "outputs": [],
   "source": []
  },
  {
   "cell_type": "code",
   "execution_count": 268,
   "id": "b4296261-6ec4-49e6-acf7-3197876e3b11",
   "metadata": {},
   "outputs": [
    {
     "data": {
      "text/plain": [
       "[1, 'Monty', 'Python', 'Monty', 5, 'Monty Python', 7, 'Monty', 'Python']"
      ]
     },
     "execution_count": 268,
     "metadata": {},
     "output_type": "execute_result"
    }
   ],
   "source": [
    "['Monty Python' if n % 6 == 0 else 'Python' if n % 3 == 0 else 'Monty' if n % 2 == 0 else n for n in range(1, 10)]"
   ]
  },
  {
   "cell_type": "code",
   "execution_count": 275,
   "id": "2b8ade96-2dfe-4051-8723-2f8d7b4460b7",
   "metadata": {},
   "outputs": [
    {
     "data": {
      "text/plain": [
       "[1, 'Monty', 'Python', 'Monty', 5, 'Monty Python', 7, 'Monty', 'Python']"
      ]
     },
     "execution_count": 275,
     "metadata": {},
     "output_type": "execute_result"
    }
   ],
   "source": [
    "['Monty Python' if n % 6 == 0 else 'Python' if n % 3 == 0 else 'Monty' if n % 2 == 0 \n",
    "else n for n in range(1, 10)]"
   ]
  },
  {
   "cell_type": "code",
   "execution_count": 292,
   "id": "78adf061-4bcd-4a35-90c7-e2e8ee8da15b",
   "metadata": {},
   "outputs": [
    {
     "data": {
      "text/plain": [
       "9"
      ]
     },
     "execution_count": 292,
     "metadata": {},
     "output_type": "execute_result"
    }
   ],
   "source": [
    "9 % 10"
   ]
  },
  {
   "cell_type": "code",
   "execution_count": 305,
   "id": "53396c46-4d7a-4e36-933f-20d2794c26c9",
   "metadata": {},
   "outputs": [
    {
     "name": "stdout",
     "output_type": "stream",
     "text": [
      " here 1\n",
      " here 2\n",
      " here 3\n",
      " here 4\n",
      " here 5\n",
      " here 6\n",
      " here 7\n",
      " here 8\n",
      " here 9\n",
      " here 10\n",
      "got here 0\n"
     ]
    }
   ],
   "source": [
    "for number in range(1, 11):\n",
    "    print(' here', number)\n",
    "    if number % 10 == 0:\n",
    "        print('got here', number % 10)\n",
    "        break\n",
    "else:\n",
    "    print('Let\\'s print something out!')"
   ]
  },
  {
   "cell_type": "code",
   "execution_count": null,
   "id": "9fcbe908-7465-4003-b9f9-f8b3f9897d2e",
   "metadata": {},
   "outputs": [],
   "source": []
  },
  {
   "cell_type": "code",
   "execution_count": 306,
   "id": "c8263d2e-d2ce-4159-b734-8af532f80001",
   "metadata": {},
   "outputs": [],
   "source": [
    "for number in range(1, 100):\n",
    "    if number % 10 == 0:\n",
    "        break\n",
    "else:\n",
    "    print('Let\\'s print something out!')"
   ]
  },
  {
   "cell_type": "code",
   "execution_count": null,
   "id": "4cf9c409-e926-4d1a-89ef-3e374846ca1f",
   "metadata": {},
   "outputs": [],
   "source": []
  }
 ],
 "metadata": {
  "kernelspec": {
   "display_name": "Python 3 (ipykernel)",
   "language": "python",
   "name": "python3"
  },
  "language_info": {
   "codemirror_mode": {
    "name": "ipython",
    "version": 3
   },
   "file_extension": ".py",
   "mimetype": "text/x-python",
   "name": "python",
   "nbconvert_exporter": "python",
   "pygments_lexer": "ipython3",
   "version": "3.12.3"
  }
 },
 "nbformat": 4,
 "nbformat_minor": 5
}
